{
  "nbformat": 4,
  "nbformat_minor": 0,
  "metadata": {
    "colab": {
      "provenance": []
    },
    "kernelspec": {
      "name": "python3",
      "display_name": "Python 3"
    },
    "language_info": {
      "name": "python"
    }
  },
  "cells": [
    {
      "cell_type": "code",
      "execution_count": 4,
      "metadata": {
        "colab": {
          "base_uri": "https://localhost:8080/"
        },
        "id": "Rgb8EllioHoP",
        "outputId": "9c0e49ed-94ac-4db6-9fae-ffcaef001622"
      },
      "outputs": [
        {
          "output_type": "execute_result",
          "data": {
            "text/plain": [
              "array([[0, 1],\n",
              "       [2, 3],\n",
              "       [4, 5]])"
            ]
          },
          "metadata": {},
          "execution_count": 4
        }
      ],
      "source": [
        "import numpy as np\n",
        "A = np.array(\n",
        "    [\n",
        "        [0, 1],\n",
        "        [2, 3],\n",
        "        [4, 5]\n",
        "    ]\n",
        ")\n",
        "A"
      ]
    },
    {
      "cell_type": "code",
      "source": [
        "B = np.array(\n",
        "    [\n",
        "        [0, 1, 2, 3],\n",
        "        [4, 5, 6, 7]\n",
        "    ]\n",
        ")\n",
        "B"
      ],
      "metadata": {
        "colab": {
          "base_uri": "https://localhost:8080/"
        },
        "id": "RvEpqpTgpprh",
        "outputId": "9e01592f-a266-468c-829e-8998af443b75"
      },
      "execution_count": 5,
      "outputs": [
        {
          "output_type": "execute_result",
          "data": {
            "text/plain": [
              "array([[0, 1, 2, 3],\n",
              "       [4, 5, 6, 7]])"
            ]
          },
          "metadata": {},
          "execution_count": 5
        }
      ]
    },
    {
      "cell_type": "code",
      "source": [
        "np.dot(A, B)"
      ],
      "metadata": {
        "colab": {
          "base_uri": "https://localhost:8080/"
        },
        "id": "nWp6LqyxvmXM",
        "outputId": "c402c241-04a0-45d6-a4ae-ec84be0d6d84"
      },
      "execution_count": 7,
      "outputs": [
        {
          "output_type": "execute_result",
          "data": {
            "text/plain": [
              "array([[ 4,  5,  6,  7],\n",
              "       [12, 17, 22, 27],\n",
              "       [20, 29, 38, 47]])"
            ]
          },
          "metadata": {},
          "execution_count": 7
        }
      ]
    },
    {
      "cell_type": "code",
      "source": [
        "C = np.array(\n",
        "    [\n",
        "        [ 4,  5,  6,  7],\n",
        "       [12, 17, 22, 27],\n",
        "       [20, 29, 38, 47]\n",
        "    ]\n",
        "    )\n",
        "max_C = C.max()\n",
        "max_C"
      ],
      "metadata": {
        "colab": {
          "base_uri": "https://localhost:8080/"
        },
        "id": "gvvWzncrwIG7",
        "outputId": "5fa36628-6456-4c5b-a160-057ad95735c5"
      },
      "execution_count": 9,
      "outputs": [
        {
          "output_type": "execute_result",
          "data": {
            "text/plain": [
              "47"
            ]
          },
          "metadata": {},
          "execution_count": 9
        }
      ]
    }
  ]
}